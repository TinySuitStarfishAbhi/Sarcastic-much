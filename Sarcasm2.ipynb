{
 "cells": [
  {
   "cell_type": "code",
   "execution_count": 1,
   "metadata": {},
   "outputs": [
    {
     "name": "stderr",
     "output_type": "stream",
     "text": [
      "C:\\Users\\Abhishek Mohanty\\Anaconda3\\lib\\site-packages\\h5py\\__init__.py:36: FutureWarning: Conversion of the second argument of issubdtype from `float` to `np.floating` is deprecated. In future, it will be treated as `np.float64 == np.dtype(float).type`.\n",
      "  from ._conv import register_converters as _register_converters\n"
     ]
    }
   ],
   "source": [
    "import numpy as np\n",
    "import tensorflow as tf"
   ]
  },
  {
   "cell_type": "code",
   "execution_count": 2,
   "metadata": {},
   "outputs": [],
   "source": [
    "from tensorflow.keras.preprocessing.text import Tokenizer\n",
    "from tensorflow.keras.preprocessing.sequence import pad_sequences"
   ]
  },
  {
   "cell_type": "code",
   "execution_count": 3,
   "metadata": {},
   "outputs": [],
   "source": [
    "vocab_size = 10000\n",
    "embed_dim = 16\n",
    "max_len = 100\n",
    "trunc = 'post'\n",
    "padd = 'post'\n",
    "oov_tok = \"<OOV>\"\n",
    "train_size = 20001"
   ]
  },
  {
   "cell_type": "code",
   "execution_count": 4,
   "metadata": {},
   "outputs": [],
   "source": [
    "import json\n",
    "\n",
    "def parse_data(file):\n",
    "    for l in open(file,'r'):\n",
    "        yield json.loads(l)\n",
    "\n",
    "data = list(parse_data('./Sarcasm_Headlines_Dataset_v2.json'))"
   ]
  },
  {
   "cell_type": "code",
   "execution_count": 5,
   "metadata": {},
   "outputs": [],
   "source": [
    "sentences = []\n",
    "labels = []\n",
    "\n",
    "for items in data:\n",
    "    sentences.append(items['headline'])\n",
    "    labels.append(items['is_sarcastic'])"
   ]
  },
  {
   "cell_type": "code",
   "execution_count": 6,
   "metadata": {},
   "outputs": [],
   "source": [
    "train_sentences = sentences[0:train_size]\n",
    "test_sentences = sentences[train_size:]\n",
    "train_labels = labels[0:train_size]\n",
    "test_labels = labels[train_size:]"
   ]
  },
  {
   "cell_type": "code",
   "execution_count": 7,
   "metadata": {},
   "outputs": [],
   "source": [
    "tokenizer = Tokenizer(num_words=vocab_size, oov_token=oov_tok)\n",
    "tokenizer.fit_on_texts(train_sentences)\n",
    "\n",
    "word_index = tokenizer.word_index\n",
    "\n",
    "train_seq = tokenizer.texts_to_sequences(train_sentences)\n",
    "train_pad = pad_sequences(train_seq,maxlen=max_len,padding=padd,truncating=trunc)\n",
    "\n",
    "test_seq = tokenizer.texts_to_sequences(test_sentences)\n",
    "test_pad = pad_sequences(test_seq,maxlen=max_len,padding=padd,truncating=trunc)"
   ]
  },
  {
   "cell_type": "code",
   "execution_count": 8,
   "metadata": {},
   "outputs": [],
   "source": [
    "train_pad = np.array(train_pad)\n",
    "test_labels = np.array(test_labels)\n",
    "test_pad = np.array(test_pad)\n",
    "test_labels = np.array(test_labels)"
   ]
  },
  {
   "cell_type": "code",
   "execution_count": 9,
   "metadata": {},
   "outputs": [
    {
     "name": "stdout",
     "output_type": "stream",
     "text": [
      "WARNING:tensorflow:From C:\\Users\\Abhishek Mohanty\\Anaconda3\\lib\\site-packages\\tensorflow\\python\\ops\\resource_variable_ops.py:435: colocate_with (from tensorflow.python.framework.ops) is deprecated and will be removed in a future version.\n",
      "Instructions for updating:\n",
      "Colocations handled automatically by placer.\n"
     ]
    }
   ],
   "source": [
    "model = tf.keras.Sequential([\n",
    "    tf.keras.layers.Embedding(vocab_size, embed_dim, input_length=max_len),\n",
    "    tf.keras.layers.GlobalAveragePooling1D(),\n",
    "    tf.keras.layers.Dense(24, activation='relu'),\n",
    "    tf.keras.layers.Dense(1, activation='sigmoid')\n",
    "])\n",
    "model.compile(loss='binary_crossentropy',optimizer='adam',metrics=['accuracy'])"
   ]
  },
  {
   "cell_type": "code",
   "execution_count": 10,
   "metadata": {},
   "outputs": [
    {
     "name": "stdout",
     "output_type": "stream",
     "text": [
      "_________________________________________________________________\n",
      "Layer (type)                 Output Shape              Param #   \n",
      "=================================================================\n",
      "embedding (Embedding)        (None, 100, 16)           160000    \n",
      "_________________________________________________________________\n",
      "global_average_pooling1d (Gl (None, 16)                0         \n",
      "_________________________________________________________________\n",
      "dense (Dense)                (None, 24)                408       \n",
      "_________________________________________________________________\n",
      "dense_1 (Dense)              (None, 1)                 25        \n",
      "=================================================================\n",
      "Total params: 160,433\n",
      "Trainable params: 160,433\n",
      "Non-trainable params: 0\n",
      "_________________________________________________________________\n"
     ]
    }
   ],
   "source": [
    "model.summary()"
   ]
  },
  {
   "cell_type": "code",
   "execution_count": 11,
   "metadata": {},
   "outputs": [
    {
     "name": "stdout",
     "output_type": "stream",
     "text": [
      "Train on 20001 samples, validate on 8618 samples\n",
      "WARNING:tensorflow:From C:\\Users\\Abhishek Mohanty\\Anaconda3\\lib\\site-packages\\tensorflow\\python\\ops\\math_ops.py:3066: to_int32 (from tensorflow.python.ops.math_ops) is deprecated and will be removed in a future version.\n",
      "Instructions for updating:\n",
      "Use tf.cast instead.\n",
      "Epoch 1/35\n",
      " - 5s - loss: 0.6587 - acc: 0.6138 - val_loss: 0.5320 - val_acc: 0.7788\n",
      "Epoch 2/35\n",
      " - 4s - loss: 0.4142 - acc: 0.8329 - val_loss: 0.3699 - val_acc: 0.8416\n",
      "Epoch 3/35\n",
      " - 4s - loss: 0.3107 - acc: 0.8757 - val_loss: 0.3384 - val_acc: 0.8557\n",
      "Epoch 4/35\n",
      " - 4s - loss: 0.2615 - acc: 0.8981 - val_loss: 0.3286 - val_acc: 0.8580\n",
      "Epoch 5/35\n",
      " - 4s - loss: 0.2251 - acc: 0.9142 - val_loss: 0.3333 - val_acc: 0.8512\n",
      "Epoch 6/35\n",
      " - 4s - loss: 0.2003 - acc: 0.9246 - val_loss: 0.3374 - val_acc: 0.8544\n",
      "Epoch 7/35\n",
      " - 4s - loss: 0.1796 - acc: 0.9339 - val_loss: 0.3461 - val_acc: 0.8548\n",
      "Epoch 8/35\n",
      " - 3s - loss: 0.1598 - acc: 0.9411 - val_loss: 0.3602 - val_acc: 0.8510\n",
      "Epoch 9/35\n",
      " - 4s - loss: 0.1451 - acc: 0.9477 - val_loss: 0.3774 - val_acc: 0.8485\n",
      "Epoch 10/35\n",
      " - 4s - loss: 0.1310 - acc: 0.9528 - val_loss: 0.3965 - val_acc: 0.8461\n",
      "Epoch 11/35\n",
      " - 4s - loss: 0.1201 - acc: 0.9579 - val_loss: 0.4183 - val_acc: 0.8420\n",
      "Epoch 12/35\n",
      " - 4s - loss: 0.1097 - acc: 0.9625 - val_loss: 0.4628 - val_acc: 0.8308\n",
      "Epoch 13/35\n",
      " - 4s - loss: 0.1011 - acc: 0.9658 - val_loss: 0.4664 - val_acc: 0.8373\n",
      "Epoch 14/35\n",
      " - 4s - loss: 0.0917 - acc: 0.9693 - val_loss: 0.4945 - val_acc: 0.8333\n",
      "Epoch 15/35\n",
      " - 4s - loss: 0.0859 - acc: 0.9716 - val_loss: 0.5451 - val_acc: 0.8241\n",
      "Epoch 16/35\n",
      " - 4s - loss: 0.0775 - acc: 0.9751 - val_loss: 0.5472 - val_acc: 0.8294\n",
      "Epoch 17/35\n",
      " - 3s - loss: 0.0727 - acc: 0.9760 - val_loss: 0.5991 - val_acc: 0.8232\n",
      "Epoch 18/35\n",
      " - 4s - loss: 0.0701 - acc: 0.9775 - val_loss: 0.6108 - val_acc: 0.8228\n",
      "Epoch 19/35\n",
      " - 3s - loss: 0.0600 - acc: 0.9819 - val_loss: 0.6410 - val_acc: 0.8204\n",
      "Epoch 20/35\n",
      " - 3s - loss: 0.0569 - acc: 0.9824 - val_loss: 0.6761 - val_acc: 0.8186\n",
      "Epoch 21/35\n",
      " - 3s - loss: 0.0516 - acc: 0.9852 - val_loss: 0.7026 - val_acc: 0.8192\n",
      "Epoch 22/35\n",
      " - 3s - loss: 0.0482 - acc: 0.9860 - val_loss: 0.7382 - val_acc: 0.8178\n",
      "Epoch 23/35\n",
      " - 3s - loss: 0.0446 - acc: 0.9869 - val_loss: 0.7718 - val_acc: 0.8167\n",
      "Epoch 24/35\n",
      " - 3s - loss: 0.0408 - acc: 0.9891 - val_loss: 0.8006 - val_acc: 0.8150\n",
      "Epoch 25/35\n",
      " - 3s - loss: 0.0387 - acc: 0.9897 - val_loss: 0.8357 - val_acc: 0.8145\n",
      "Epoch 26/35\n",
      " - 3s - loss: 0.0341 - acc: 0.9910 - val_loss: 0.9155 - val_acc: 0.8081\n",
      "Epoch 27/35\n",
      " - 3s - loss: 0.0324 - acc: 0.9910 - val_loss: 0.9084 - val_acc: 0.8119\n",
      "Epoch 28/35\n",
      " - 4s - loss: 0.0300 - acc: 0.9923 - val_loss: 0.9824 - val_acc: 0.8069\n",
      "Epoch 29/35\n",
      " - 3s - loss: 0.0271 - acc: 0.9933 - val_loss: 0.9868 - val_acc: 0.8070\n",
      "Epoch 30/35\n",
      " - 3s - loss: 0.0252 - acc: 0.9942 - val_loss: 1.0144 - val_acc: 0.8070\n",
      "Epoch 31/35\n",
      " - 4s - loss: 0.0243 - acc: 0.9942 - val_loss: 1.1068 - val_acc: 0.8020\n",
      "Epoch 32/35\n",
      " - 4s - loss: 0.0232 - acc: 0.9945 - val_loss: 1.0982 - val_acc: 0.8051\n",
      "Epoch 33/35\n",
      " - 3s - loss: 0.0193 - acc: 0.9956 - val_loss: 1.1563 - val_acc: 0.8004\n",
      "Epoch 34/35\n",
      " - 4s - loss: 0.0185 - acc: 0.9953 - val_loss: 1.1626 - val_acc: 0.8030\n",
      "Epoch 35/35\n",
      " - 4s - loss: 0.0182 - acc: 0.9952 - val_loss: 1.2108 - val_acc: 0.8017\n"
     ]
    }
   ],
   "source": [
    "num_epochs = 35\n",
    "history = model.fit(train_pad, train_labels, epochs=num_epochs, validation_data=(test_pad, test_labels), verbose=2)"
   ]
  },
  {
   "cell_type": "code",
   "execution_count": 12,
   "metadata": {},
   "outputs": [
    {
     "data": {
      "text/plain": [
       "<Figure size 640x480 with 1 Axes>"
      ]
     },
     "metadata": {},
     "output_type": "display_data"
    },
    {
     "data": {
      "text/plain": [
       "<Figure size 640x480 with 1 Axes>"
      ]
     },
     "metadata": {},
     "output_type": "display_data"
    }
   ],
   "source": [
    "import matplotlib.pyplot as plt\n",
    "\n",
    "\n",
    "def plot_graphs(history, string):\n",
    "  plt.plot(history.history[string])\n",
    "  plt.plot(history.history['val_'+string])\n",
    "  plt.xlabel(\"Epochs\")\n",
    "  plt.ylabel(string)\n",
    "  plt.legend([string, 'val_'+string])\n",
    "  plt.show()\n",
    "  \n",
    "plot_graphs(history, \"acc\")\n",
    "plot_graphs(history, \"loss\")"
   ]
  },
  {
   "cell_type": "code",
   "execution_count": 13,
   "metadata": {},
   "outputs": [
    {
     "name": "stdout",
     "output_type": "stream",
     "text": [
      "<OOV> scientists unveil doomsday clock of hair loss ? ? ? ? ? ? ? ? ? ? ? ? ? ? ? ? ? ? ? ? ? ? ? ? ? ? ? ? ? ? ? ? ? ? ? ? ? ? ? ? ? ? ? ? ? ? ? ? ? ? ? ? ? ? ? ? ? ? ? ? ? ? ? ? ? ? ? ? ? ? ? ? ? ? ? ? ? ? ? ? ? ? ? ? ? ? ? ? ? ? ? ?\n",
      "eat your veggies: 9 deliciously different recipes\n",
      "0\n"
     ]
    }
   ],
   "source": [
    "reverse_word_index = dict([(value, key) for (key, value) in word_index.items()])\n",
    "\n",
    "def decode_sentence(text):\n",
    "    return ' '.join([reverse_word_index.get(i, '?') for i in text])\n",
    "\n",
    "print(decode_sentence(train_pad[0]))\n",
    "print(train_sentences[2])\n",
    "print(labels[2])"
   ]
  },
  {
   "cell_type": "code",
   "execution_count": 14,
   "metadata": {},
   "outputs": [
    {
     "name": "stdout",
     "output_type": "stream",
     "text": [
      "(10000, 16)\n"
     ]
    }
   ],
   "source": [
    "e = model.layers[0]\n",
    "weights = e.get_weights()[0]\n",
    "print(weights.shape)"
   ]
  },
  {
   "cell_type": "code",
   "execution_count": 15,
   "metadata": {},
   "outputs": [
    {
     "name": "stdout",
     "output_type": "stream",
     "text": [
      "[[6.7296398e-01]\n",
      " [1.0782140e-05]\n",
      " [2.0315547e-05]\n",
      " [9.9998641e-01]\n",
      " [8.8493005e-05]\n",
      " [3.2171738e-04]\n",
      " [7.2423718e-04]]\n"
     ]
    }
   ],
   "source": [
    "sentence = [\"granny starting to fear spiders in the garden might be real\",\n",
    "            \"game of thrones season finale showing this sunday night\",\n",
    "           \"it is looking like it might be the end of the world eh?\",\n",
    "           \"local barber arrested over homicide accuse\",\n",
    "           \"i love you, dont i?\",\n",
    "           \"i love eating toasted cheese and tuna sandwiches\",\n",
    "           \"the government has shown the ability to do anything for the public and how much they care about them by opening up the beaches in Florida\"]\n",
    "sequences = tokenizer.texts_to_sequences(sentence)\n",
    "padded = pad_sequences(sequences, maxlen=max_len, padding=padd, truncating=trunc)\n",
    "print(model.predict(padded))"
   ]
  },
  {
   "cell_type": "code",
   "execution_count": null,
   "metadata": {},
   "outputs": [],
   "source": []
  }
 ],
 "metadata": {
  "kernelspec": {
   "display_name": "Python 3",
   "language": "python",
   "name": "python3"
  },
  "language_info": {
   "codemirror_mode": {
    "name": "ipython",
    "version": 3
   },
   "file_extension": ".py",
   "mimetype": "text/x-python",
   "name": "python",
   "nbconvert_exporter": "python",
   "pygments_lexer": "ipython3",
   "version": "3.6.9"
  }
 },
 "nbformat": 4,
 "nbformat_minor": 2
}
