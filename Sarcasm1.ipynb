{
 "cells": [
  {
   "cell_type": "code",
   "execution_count": 56,
   "metadata": {},
   "outputs": [],
   "source": [
    "import numpy as np\n",
    "import tensorflow as tf"
   ]
  },
  {
   "cell_type": "code",
   "execution_count": 57,
   "metadata": {},
   "outputs": [],
   "source": [
    "from tensorflow.keras.preprocessing.text import Tokenizer\n",
    "from tensorflow.keras.preprocessing.sequence import pad_sequences"
   ]
  },
  {
   "cell_type": "code",
   "execution_count": 58,
   "metadata": {},
   "outputs": [],
   "source": [
    "vocab_size = 10000\n",
    "embed_dim = 16\n",
    "max_len = 100\n",
    "trunc = 'post'\n",
    "padd = 'post'\n",
    "oov_tok = \"<OOV>\"\n",
    "train_size = 20001"
   ]
  },
  {
   "cell_type": "code",
   "execution_count": 59,
   "metadata": {},
   "outputs": [],
   "source": [
    "import json\n",
    "\n",
    "def parse_data(file):\n",
    "    for l in open(file,'r'):\n",
    "        yield json.loads(l)\n",
    "\n",
    "data = list(parse_data('./Sarcasm_Headlines_Dataset.json'))"
   ]
  },
  {
   "cell_type": "code",
   "execution_count": 60,
   "metadata": {},
   "outputs": [],
   "source": [
    "sentences = []\n",
    "labels = []\n",
    "\n",
    "for items in data:\n",
    "    sentences.append(items['headline'])\n",
    "    labels.append(items['is_sarcastic'])"
   ]
  },
  {
   "cell_type": "code",
   "execution_count": 61,
   "metadata": {},
   "outputs": [],
   "source": [
    "train_sentences = sentences[0:train_size]\n",
    "test_sentences = sentences[train_size:]\n",
    "train_labels = labels[0:train_size]\n",
    "test_labels = labels[train_size:]"
   ]
  },
  {
   "cell_type": "code",
   "execution_count": 62,
   "metadata": {},
   "outputs": [],
   "source": [
    "tokenizer = Tokenizer(num_words=vocab_size, oov_token=oov_tok)\n",
    "tokenizer.fit_on_texts(train_sentences)\n",
    "\n",
    "word_index = tokenizer.word_index\n",
    "\n",
    "train_seq = tokenizer.texts_to_sequences(train_sentences)\n",
    "train_pad = pad_sequences(train_seq,maxlen=max_len,padding=padd,truncating=trunc)\n",
    "\n",
    "test_seq = tokenizer.texts_to_sequences(test_sentences)\n",
    "test_pad = pad_sequences(test_seq,maxlen=max_len,padding=padd,truncating=trunc)"
   ]
  },
  {
   "cell_type": "code",
   "execution_count": 63,
   "metadata": {},
   "outputs": [],
   "source": [
    "train_pad = np.array(train_pad)\n",
    "test_labels = np.array(test_labels)\n",
    "test_pad = np.array(test_pad)\n",
    "test_labels = np.array(test_labels)"
   ]
  },
  {
   "cell_type": "code",
   "execution_count": 64,
   "metadata": {},
   "outputs": [],
   "source": [
    "model = tf.keras.Sequential([\n",
    "    tf.keras.layers.Embedding(vocab_size, embed_dim, input_length=max_len),\n",
    "    tf.keras.layers.GlobalAveragePooling1D(),\n",
    "    tf.keras.layers.Dense(24, activation='relu'),\n",
    "    tf.keras.layers.Dense(1, activation='sigmoid')\n",
    "])\n",
    "model.compile(loss='binary_crossentropy',optimizer='adam',metrics=['accuracy'])"
   ]
  },
  {
   "cell_type": "code",
   "execution_count": 65,
   "metadata": {},
   "outputs": [
    {
     "name": "stdout",
     "output_type": "stream",
     "text": [
      "_________________________________________________________________\n",
      "Layer (type)                 Output Shape              Param #   \n",
      "=================================================================\n",
      "embedding_3 (Embedding)      (None, 100, 16)           160000    \n",
      "_________________________________________________________________\n",
      "global_average_pooling1d_3 ( (None, 16)                0         \n",
      "_________________________________________________________________\n",
      "dense_5 (Dense)              (None, 24)                408       \n",
      "_________________________________________________________________\n",
      "dense_6 (Dense)              (None, 1)                 25        \n",
      "=================================================================\n",
      "Total params: 160,433\n",
      "Trainable params: 160,433\n",
      "Non-trainable params: 0\n",
      "_________________________________________________________________\n"
     ]
    }
   ],
   "source": [
    "model.summary()"
   ]
  },
  {
   "cell_type": "code",
   "execution_count": 66,
   "metadata": {},
   "outputs": [
    {
     "name": "stdout",
     "output_type": "stream",
     "text": [
      "Train on 20001 samples, validate on 6708 samples\n",
      "Epoch 1/35\n",
      " - 4s - loss: 0.6650 - acc: 0.6012 - val_loss: 0.5764 - val_acc: 0.7211\n",
      "Epoch 2/35\n",
      " - 3s - loss: 0.4318 - acc: 0.8287 - val_loss: 0.3899 - val_acc: 0.8281\n",
      "Epoch 3/35\n",
      " - 2s - loss: 0.3148 - acc: 0.8737 - val_loss: 0.3553 - val_acc: 0.8497\n",
      "Epoch 4/35\n",
      " - 2s - loss: 0.2638 - acc: 0.8968 - val_loss: 0.3435 - val_acc: 0.8558\n",
      "Epoch 5/35\n",
      " - 2s - loss: 0.2281 - acc: 0.9128 - val_loss: 0.3435 - val_acc: 0.8558\n",
      "Epoch 6/35\n",
      " - 2s - loss: 0.2016 - acc: 0.9242 - val_loss: 0.3472 - val_acc: 0.8539\n",
      "Epoch 7/35\n",
      " - 2s - loss: 0.1786 - acc: 0.9331 - val_loss: 0.4058 - val_acc: 0.8299\n",
      "Epoch 8/35\n",
      " - 2s - loss: 0.1632 - acc: 0.9399 - val_loss: 0.3677 - val_acc: 0.8539\n",
      "Epoch 9/35\n",
      " - 2s - loss: 0.1454 - acc: 0.9477 - val_loss: 0.3843 - val_acc: 0.8530\n",
      "Epoch 10/35\n",
      " - 2s - loss: 0.1345 - acc: 0.9526 - val_loss: 0.4004 - val_acc: 0.8533\n",
      "Epoch 11/35\n",
      " - 2s - loss: 0.1223 - acc: 0.9583 - val_loss: 0.4366 - val_acc: 0.8408\n",
      "Epoch 12/35\n",
      " - 2s - loss: 0.1124 - acc: 0.9614 - val_loss: 0.4654 - val_acc: 0.8387\n",
      "Epoch 13/35\n",
      " - 2s - loss: 0.1016 - acc: 0.9656 - val_loss: 0.4846 - val_acc: 0.8369\n",
      "Epoch 14/35\n",
      " - 2s - loss: 0.0931 - acc: 0.9700 - val_loss: 0.4980 - val_acc: 0.8374\n",
      "Epoch 15/35\n",
      " - 2s - loss: 0.0863 - acc: 0.9714 - val_loss: 0.5247 - val_acc: 0.8360\n",
      "Epoch 16/35\n",
      " - 2s - loss: 0.0797 - acc: 0.9735 - val_loss: 0.5355 - val_acc: 0.8399\n",
      "Epoch 17/35\n",
      " - 2s - loss: 0.0724 - acc: 0.9778 - val_loss: 0.5807 - val_acc: 0.8308\n",
      "Epoch 18/35\n",
      " - 2s - loss: 0.0683 - acc: 0.9788 - val_loss: 0.6031 - val_acc: 0.8335\n",
      "Epoch 19/35\n",
      " - 2s - loss: 0.0620 - acc: 0.9810 - val_loss: 0.6290 - val_acc: 0.8311\n",
      "Epoch 20/35\n",
      " - 2s - loss: 0.0615 - acc: 0.9808 - val_loss: 0.6444 - val_acc: 0.8315\n",
      "Epoch 21/35\n",
      " - 2s - loss: 0.0531 - acc: 0.9834 - val_loss: 0.6730 - val_acc: 0.8287\n",
      "Epoch 22/35\n",
      " - 2s - loss: 0.0499 - acc: 0.9854 - val_loss: 0.7024 - val_acc: 0.8281\n",
      "Epoch 23/35\n",
      " - 2s - loss: 0.0456 - acc: 0.9864 - val_loss: 0.7318 - val_acc: 0.8256\n",
      "Epoch 24/35\n",
      " - 2s - loss: 0.0420 - acc: 0.9883 - val_loss: 0.7707 - val_acc: 0.8216\n",
      "Epoch 25/35\n",
      " - 2s - loss: 0.0404 - acc: 0.9877 - val_loss: 0.8357 - val_acc: 0.8204\n",
      "Epoch 26/35\n",
      " - 2s - loss: 0.0353 - acc: 0.9911 - val_loss: 0.8450 - val_acc: 0.8183\n",
      "Epoch 27/35\n",
      " - 2s - loss: 0.0332 - acc: 0.9910 - val_loss: 0.8677 - val_acc: 0.8192\n",
      "Epoch 28/35\n",
      " - 2s - loss: 0.0311 - acc: 0.9911 - val_loss: 0.9407 - val_acc: 0.8143\n",
      "Epoch 29/35\n",
      " - 2s - loss: 0.0282 - acc: 0.9924 - val_loss: 0.9526 - val_acc: 0.8150\n",
      "Epoch 30/35\n",
      " - 2s - loss: 0.0261 - acc: 0.9930 - val_loss: 0.9743 - val_acc: 0.8128\n",
      "Epoch 31/35\n",
      " - 2s - loss: 0.0243 - acc: 0.9939 - val_loss: 1.0533 - val_acc: 0.8095\n",
      "Epoch 32/35\n",
      " - 2s - loss: 0.0220 - acc: 0.9939 - val_loss: 1.0977 - val_acc: 0.8077\n",
      "Epoch 33/35\n",
      " - 2s - loss: 0.0208 - acc: 0.9943 - val_loss: 1.1088 - val_acc: 0.8083\n",
      "Epoch 34/35\n",
      " - 2s - loss: 0.0199 - acc: 0.9946 - val_loss: 1.1180 - val_acc: 0.8102\n",
      "Epoch 35/35\n",
      " - 2s - loss: 0.0193 - acc: 0.9944 - val_loss: 1.1713 - val_acc: 0.8078\n"
     ]
    }
   ],
   "source": [
    "num_epochs = 35\n",
    "history = model.fit(train_pad, train_labels, epochs=num_epochs, validation_data=(test_pad, test_labels), verbose=2)"
   ]
  },
  {
   "cell_type": "code",
   "execution_count": 67,
   "metadata": {},
   "outputs": [
    {
     "data": {
      "image/png": "[encoded data removed]",
      "text/plain": [
       "<Figure size 432x288 with 1 Axes>"
      ]
     },
     "metadata": {
      "needs_background": "light"
     },
     "output_type": "display_data"
    },
    {
     "data": {
      "image/png": "[encoded data removed]",
      "text/plain": [
       "<Figure size 432x288 with 1 Axes>"
      ]
     },
     "metadata": {
      "needs_background": "light"
     },
     "output_type": "display_data"
    }
   ],
   "source": [
    "import matplotlib.pyplot as plt\n",
    "\n",
    "\n",
    "def plot_graphs(history, string):\n",
    "  plt.plot(history.history[string])\n",
    "  plt.plot(history.history['val_'+string])\n",
    "  plt.xlabel(\"Epochs\")\n",
    "  plt.ylabel(string)\n",
    "  plt.legend([string, 'val_'+string])\n",
    "  plt.show()\n",
    "  \n",
    "plot_graphs(history, \"acc\")\n",
    "plot_graphs(history, \"loss\")"
   ]
  },
  {
   "cell_type": "code",
   "execution_count": 68,
   "metadata": {},
   "outputs": [
    {
     "name": "stdout",
     "output_type": "stream",
     "text": [
      "former <OOV> store clerk sues over secret 'black <OOV> for minority shoppers ? ? ? ? ? ? ? ? ? ? ? ? ? ? ? ? ? ? ? ? ? ? ? ? ? ? ? ? ? ? ? ? ? ? ? ? ? ? ? ? ? ? ? ? ? ? ? ? ? ? ? ? ? ? ? ? ? ? ? ? ? ? ? ? ? ? ? ? ? ? ? ? ? ? ? ? ? ? ? ? ? ? ? ? ? ? ? ?\n",
      "mom starting to fear son's web series closest thing she will have to grandchild\n",
      "1\n"
     ]
    }
   ],
   "source": [
    "reverse_word_index = dict([(value, key) for (key, value) in word_index.items()])\n",
    "\n",
    "def decode_sentence(text):\n",
    "    return ' '.join([reverse_word_index.get(i, '?') for i in text])\n",
    "\n",
    "print(decode_sentence(train_pad[0]))\n",
    "print(train_sentences[2])\n",
    "print(labels[2])"
   ]
  },
  {
   "cell_type": "code",
   "execution_count": 69,
   "metadata": {},
   "outputs": [
    {
     "name": "stdout",
     "output_type": "stream",
     "text": [
      "(10000, 16)\n"
     ]
    }
   ],
   "source": [
    "e = model.layers[0]\n",
    "weights = e.get_weights()[0]\n",
    "print(weights.shape)"
   ]
  },
  {
   "cell_type": "code",
   "execution_count": 71,
   "metadata": {},
   "outputs": [
    {
     "name": "stdout",
     "output_type": "stream",
     "text": [
      "[[9.9535286e-01]\n",
      " [4.0233917e-05]\n",
      " [1.0463504e-04]\n",
      " [9.6833289e-01]\n",
      " [8.9706973e-06]\n",
      " [1.4693607e-02]\n",
      " [2.5236510e-08]]\n"
     ]
    }
   ],
   "source": [
    "sentence = [\"granny starting to fear spiders in the garden might be real\",\n",
    "            \"game of thrones season finale showing this sunday night\",\n",
    "           \"it is looking like it might be the end of the world eh?\",\n",
    "           \"local barber arrested over homicide accuse\",\n",
    "           \"i love you, dont i?\",\n",
    "           \"i love eating toasted cheese and tuna sandwiches\",\n",
    "           \"the government has shown the ability to do anything for the public and how much they care about them by opening up the beaches in Florida\"]\n",
    "sequences = tokenizer.texts_to_sequences(sentence)\n",
    "padded = pad_sequences(sequences, maxlen=max_len, padding=padd, truncating=trunc)\n",
    "print(model.predict(padded))"
   ]
  },
  {
   "cell_type": "code",
   "execution_count": null,
   "metadata": {},
   "outputs": [],
   "source": []
  }
 ],
 "metadata": {
  "kernelspec": {
   "display_name": "Python 3",
   "language": "python",
   "name": "python3"
  },
  "language_info": {
   "codemirror_mode": {
    "name": "ipython",
    "version": 3
   },
   "file_extension": ".py",
   "mimetype": "text/x-python",
   "name": "python",
   "nbconvert_exporter": "python",
   "pygments_lexer": "ipython3",
   "version": "3.6.4"
  }
 },
 "nbformat": 4,
 "nbformat_minor": 2
}
